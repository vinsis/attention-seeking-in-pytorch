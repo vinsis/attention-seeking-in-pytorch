{
 "cells": [
  {
   "cell_type": "code",
   "execution_count": 2,
   "metadata": {},
   "outputs": [],
   "source": [
    "import torch\n",
    "import torch.nn.functional as F\n",
    "import numpy as np\n",
    "import matplotlib.pyplot as plt\n",
    "%matplotlib inline\n",
    "import os\n",
    "import sys\n",
    "sys.path.insert(0, 'code/')"
   ]
  },
  {
   "cell_type": "code",
   "execution_count": null,
   "metadata": {},
   "outputs": [],
   "source": [
    "import content_based_concat_attention as attn_concat\n",
    "sequence_length = attn_concat.sequence_length\n",
    "content_based_attention_concat = attn_concat.content_based_attention_concat\n",
    "reference_vector = attn_concat.reference_vector\n",
    "decoder_output_to_sequence_length = attn_concat.decoder_output_to_sequence_length\n",
    "criterion = attn_concat.criterion"
   ]
  },
  {
   "cell_type": "code",
   "execution_count": null,
   "metadata": {},
   "outputs": [],
   "source": [
    "attn_concat.train()"
   ]
  },
  {
   "cell_type": "code",
   "execution_count": null,
   "metadata": {},
   "outputs": [],
   "source": [
    "for random_sequence in attn_concat.loader:\n",
    "    correct_sequence = torch.sort(random_sequence)[1]\n",
    "    correct_sequence = correct_sequence.long().squeeze(0)\n",
    "    break"
   ]
  },
  {
   "cell_type": "code",
   "execution_count": null,
   "metadata": {},
   "outputs": [],
   "source": [
    "random_sequence, correct_sequence"
   ]
  },
  {
   "cell_type": "code",
   "execution_count": null,
   "metadata": {
    "scrolled": false
   },
   "outputs": [],
   "source": [
    "random_sequence_embedding = attn_concat.embedding(random_sequence)\n",
    "encoder_outputs, (encoder_h, encoder_c) = attn_concat.encoder(random_sequence_embedding)\n",
    "\n",
    "decoder_outputs = []\n",
    "similarities = []\n",
    "attentions = []\n",
    "decoder_input_h = encoder_h.view(1,1,-1)\n",
    "\n",
    "for time in range(attn_concat.sequence_length):\n",
    "    decoder_input_h_repeated = decoder_input_h.repeat(1,sequence_length,1)\n",
    "    concatenated_tensor = torch.cat([decoder_input_h_repeated, encoder_outputs], dim=2)\n",
    "    transformed_concatenated_tensor = content_based_attention_concat(concatenated_tensor)\n",
    "    \n",
    "    similarity_with_reference_vector = torch.bmm(reference_vector, transformed_concatenated_tensor.transpose(1,2))\n",
    "    encoder_output_weights = F.softmax(similarity_with_reference_vector, dim=2)\n",
    "    similarities.append(similarity_with_reference_vector)\n",
    "    attentions.append(encoder_output_weights)\n",
    "\n",
    "    weighted_sum_of_encoder_outputs = torch.bmm(encoder_output_weights, encoder_outputs)\n",
    "    decoder_output_at_time_t, (decoder_h, decoder_c) = attn_concat.decoder(attn_concat.decoder_input, (decoder_input_h, weighted_sum_of_encoder_outputs))\n",
    "    decoder_outputs.append(decoder_output_at_time_t)\n",
    "    decoder_input_h = decoder_h\n",
    "    \n",
    "decoder_outputs = torch.cat(decoder_outputs, 1)\n",
    "softmax_input = decoder_output_to_sequence_length(decoder_outputs).squeeze(0)\n",
    "loss = criterion(softmax_input, correct_sequence)\n",
    "\n",
    "accurate = (softmax_input.max(1)[1] == correct_sequence).sum()"
   ]
  },
  {
   "cell_type": "code",
   "execution_count": null,
   "metadata": {},
   "outputs": [],
   "source": [
    "for i in range(10):\n",
    "    print(similarities[i])\n",
    "    print(F.softmax(similarities[0],dim=2))\n",
    "    print('====')"
   ]
  },
  {
   "cell_type": "code",
   "execution_count": null,
   "metadata": {},
   "outputs": [],
   "source": [
    "accurate, loss.item()"
   ]
  },
  {
   "cell_type": "code",
   "execution_count": null,
   "metadata": {},
   "outputs": [],
   "source": [
    "list(zip(softmax_input.max(1)[1], correct_sequence))"
   ]
  },
  {
   "cell_type": "code",
   "execution_count": null,
   "metadata": {},
   "outputs": [],
   "source": [
    "attentions_1d = [i.squeeze() for i in attentions]\n",
    "len(attentions_1d)"
   ]
  },
  {
   "cell_type": "code",
   "execution_count": null,
   "metadata": {},
   "outputs": [],
   "source": [
    "for attn in attentions_1d:\n",
    "    plt.plot(attn.detach().numpy())"
   ]
  },
  {
   "cell_type": "code",
   "execution_count": null,
   "metadata": {},
   "outputs": [],
   "source": [
    "plt.plot(reference_vector[0,0].detach().numpy())"
   ]
  },
  {
   "cell_type": "markdown",
   "metadata": {},
   "source": [
    "### Location based attention"
   ]
  },
  {
   "cell_type": "code",
   "execution_count": 3,
   "metadata": {},
   "outputs": [],
   "source": [
    "import location_based_attention as attn_local"
   ]
  },
  {
   "cell_type": "code",
   "execution_count": 14,
   "metadata": {},
   "outputs": [
    {
     "data": {
      "text/plain": [
       "1.03"
      ]
     },
     "execution_count": 14,
     "metadata": {},
     "output_type": "execute_result"
    }
   ],
   "source": [
    "accuracy_before = []\n",
    "for _ in range(100):\n",
    "    accuracy_before.append(attn_local.test()[0].item())\n",
    "    \n",
    "np.mean(accuracy_before)"
   ]
  },
  {
   "cell_type": "code",
   "execution_count": 15,
   "metadata": {},
   "outputs": [
    {
     "name": "stdout",
     "output_type": "stream",
     "text": [
      "Loss at iteration 0: 2.30315065\n",
      "Accuracy in last 100 iterations: 1/10\n",
      "Loss at iteration 100: 2.27956915\n",
      "Accuracy in last 100 iterations: 113/1000\n",
      "Loss at iteration 200: 2.29555345\n",
      "Accuracy in last 100 iterations: 143/1000\n",
      "Loss at iteration 300: 2.01904798\n",
      "Accuracy in last 100 iterations: 167/1000\n",
      "Loss at iteration 400: 2.06319761\n",
      "Accuracy in last 100 iterations: 211/1000\n",
      "Loss at iteration 500: 2.02013636\n",
      "Accuracy in last 100 iterations: 244/1000\n",
      "Loss at iteration 600: 1.95110583\n",
      "Accuracy in last 100 iterations: 246/1000\n",
      "Loss at iteration 700: 1.76244068\n",
      "Accuracy in last 100 iterations: 281/1000\n",
      "Loss at iteration 800: 1.81778586\n",
      "Accuracy in last 100 iterations: 323/1000\n",
      "Loss at iteration 900: 1.87071228\n",
      "Accuracy in last 100 iterations: 300/1000\n",
      "Loss at iteration 1000: 1.66562080\n",
      "Accuracy in last 100 iterations: 343/1000\n",
      "Loss at iteration 1100: 1.73772168\n",
      "Accuracy in last 100 iterations: 352/1000\n",
      "Loss at iteration 1200: 1.59243309\n",
      "Accuracy in last 100 iterations: 391/1000\n",
      "Loss at iteration 1300: 1.55696011\n",
      "Accuracy in last 100 iterations: 389/1000\n",
      "Loss at iteration 1400: 1.46785808\n",
      "Accuracy in last 100 iterations: 417/1000\n",
      "Loss at iteration 1500: 1.19035935\n",
      "Accuracy in last 100 iterations: 452/1000\n",
      "Loss at iteration 1600: 1.34880912\n",
      "Accuracy in last 100 iterations: 445/1000\n",
      "Loss at iteration 1700: 1.75110269\n",
      "Accuracy in last 100 iterations: 464/1000\n",
      "Loss at iteration 1800: 1.32373035\n",
      "Accuracy in last 100 iterations: 484/1000\n",
      "Loss at iteration 1900: 1.22476029\n",
      "Accuracy in last 100 iterations: 461/1000\n",
      "Loss at iteration 2000: 1.62262464\n",
      "Accuracy in last 100 iterations: 513/1000\n",
      "Loss at iteration 2100: 1.32307458\n",
      "Accuracy in last 100 iterations: 548/1000\n",
      "Loss at iteration 2200: 1.24620461\n",
      "Accuracy in last 100 iterations: 554/1000\n",
      "Loss at iteration 2300: 1.04852605\n",
      "Accuracy in last 100 iterations: 526/1000\n",
      "Loss at iteration 2400: 0.93556058\n",
      "Accuracy in last 100 iterations: 588/1000\n",
      "Loss at iteration 2500: 1.07279181\n",
      "Accuracy in last 100 iterations: 562/1000\n",
      "Loss at iteration 2600: 0.99719030\n",
      "Accuracy in last 100 iterations: 582/1000\n",
      "Loss at iteration 2700: 1.21954823\n",
      "Accuracy in last 100 iterations: 630/1000\n",
      "Loss at iteration 2800: 0.93199337\n",
      "Accuracy in last 100 iterations: 598/1000\n",
      "Loss at iteration 2900: 0.96856129\n",
      "Accuracy in last 100 iterations: 630/1000\n",
      "Loss at iteration 3000: 0.91921413\n",
      "Accuracy in last 100 iterations: 620/1000\n",
      "Loss at iteration 3100: 0.94452953\n",
      "Accuracy in last 100 iterations: 678/1000\n",
      "Loss at iteration 3200: 1.17787147\n",
      "Accuracy in last 100 iterations: 688/1000\n",
      "Loss at iteration 3300: 0.88064098\n",
      "Accuracy in last 100 iterations: 649/1000\n",
      "Loss at iteration 3400: 0.76943064\n",
      "Accuracy in last 100 iterations: 669/1000\n",
      "Loss at iteration 3500: 0.88486892\n",
      "Accuracy in last 100 iterations: 679/1000\n",
      "Loss at iteration 3600: 0.93042946\n",
      "Accuracy in last 100 iterations: 683/1000\n",
      "Loss at iteration 3700: 0.73154575\n",
      "Accuracy in last 100 iterations: 684/1000\n",
      "Loss at iteration 3800: 1.18731475\n",
      "Accuracy in last 100 iterations: 675/1000\n",
      "Loss at iteration 3900: 0.81867677\n",
      "Accuracy in last 100 iterations: 708/1000\n",
      "Loss at iteration 4000: 0.70863181\n",
      "Accuracy in last 100 iterations: 711/1000\n",
      "Loss at iteration 4100: 0.70201713\n",
      "Accuracy in last 100 iterations: 715/1000\n",
      "Loss at iteration 4200: 0.68708968\n",
      "Accuracy in last 100 iterations: 730/1000\n",
      "Loss at iteration 4300: 1.11229002\n",
      "Accuracy in last 100 iterations: 708/1000\n",
      "Loss at iteration 4400: 0.63631231\n",
      "Accuracy in last 100 iterations: 711/1000\n",
      "Loss at iteration 4500: 0.62011534\n",
      "Accuracy in last 100 iterations: 741/1000\n",
      "Loss at iteration 4600: 0.91501647\n",
      "Accuracy in last 100 iterations: 714/1000\n",
      "Loss at iteration 4700: 0.80780518\n",
      "Accuracy in last 100 iterations: 718/1000\n",
      "Loss at iteration 4800: 0.55916888\n",
      "Accuracy in last 100 iterations: 741/1000\n",
      "Loss at iteration 4900: 0.61529726\n",
      "Accuracy in last 100 iterations: 760/1000\n",
      "Loss at iteration 5000: 0.59830856\n",
      "Accuracy in last 100 iterations: 770/1000\n",
      "Loss at iteration 5100: 0.76047951\n",
      "Accuracy in last 100 iterations: 742/1000\n",
      "Loss at iteration 5200: 0.92576313\n",
      "Accuracy in last 100 iterations: 747/1000\n",
      "Loss at iteration 5300: 0.51475495\n",
      "Accuracy in last 100 iterations: 756/1000\n",
      "Loss at iteration 5400: 0.70906395\n",
      "Accuracy in last 100 iterations: 736/1000\n",
      "Loss at iteration 5500: 0.59062237\n",
      "Accuracy in last 100 iterations: 753/1000\n",
      "Loss at iteration 5600: 0.58114207\n",
      "Accuracy in last 100 iterations: 758/1000\n",
      "Loss at iteration 5700: 0.78759438\n",
      "Accuracy in last 100 iterations: 782/1000\n",
      "Loss at iteration 5800: 0.64118576\n",
      "Accuracy in last 100 iterations: 741/1000\n",
      "Loss at iteration 5900: 0.77417433\n",
      "Accuracy in last 100 iterations: 746/1000\n",
      "Loss at iteration 6000: 0.53487712\n",
      "Accuracy in last 100 iterations: 808/1000\n",
      "Loss at iteration 6100: 0.69365507\n",
      "Accuracy in last 100 iterations: 811/1000\n",
      "Loss at iteration 6200: 0.47947979\n",
      "Accuracy in last 100 iterations: 798/1000\n",
      "Loss at iteration 6300: 0.78866780\n",
      "Accuracy in last 100 iterations: 764/1000\n",
      "Loss at iteration 6400: 0.43679014\n",
      "Accuracy in last 100 iterations: 773/1000\n",
      "Loss at iteration 6500: 0.64993751\n",
      "Accuracy in last 100 iterations: 778/1000\n",
      "Loss at iteration 6600: 0.50136548\n",
      "Accuracy in last 100 iterations: 778/1000\n",
      "Loss at iteration 6700: 0.73579395\n",
      "Accuracy in last 100 iterations: 793/1000\n",
      "Loss at iteration 6800: 0.44252658\n",
      "Accuracy in last 100 iterations: 806/1000\n",
      "Loss at iteration 6900: 0.49896613\n",
      "Accuracy in last 100 iterations: 798/1000\n",
      "Loss at iteration 7000: 0.39355558\n",
      "Accuracy in last 100 iterations: 797/1000\n",
      "Loss at iteration 7100: 0.64940131\n",
      "Accuracy in last 100 iterations: 762/1000\n",
      "Loss at iteration 7200: 0.57014179\n",
      "Accuracy in last 100 iterations: 807/1000\n",
      "Loss at iteration 7300: 0.34671706\n",
      "Accuracy in last 100 iterations: 815/1000\n",
      "Loss at iteration 7400: 0.60105813\n",
      "Accuracy in last 100 iterations: 787/1000\n",
      "Loss at iteration 7500: 0.41243634\n",
      "Accuracy in last 100 iterations: 809/1000\n",
      "Loss at iteration 7600: 0.61987484\n",
      "Accuracy in last 100 iterations: 800/1000\n",
      "Loss at iteration 7700: 0.56352407\n",
      "Accuracy in last 100 iterations: 818/1000\n",
      "Loss at iteration 7800: 0.49564344\n",
      "Accuracy in last 100 iterations: 822/1000\n",
      "Loss at iteration 7900: 0.49369699\n",
      "Accuracy in last 100 iterations: 826/1000\n",
      "Loss at iteration 8000: 0.33718014\n",
      "Accuracy in last 100 iterations: 830/1000\n",
      "Loss at iteration 8100: 0.63961017\n",
      "Accuracy in last 100 iterations: 819/1000\n",
      "Loss at iteration 8200: 0.35264120\n",
      "Accuracy in last 100 iterations: 812/1000\n",
      "Loss at iteration 8300: 0.66513395\n",
      "Accuracy in last 100 iterations: 811/1000\n",
      "Loss at iteration 8400: 0.49991339\n",
      "Accuracy in last 100 iterations: 816/1000\n",
      "Loss at iteration 8500: 0.59165490\n",
      "Accuracy in last 100 iterations: 842/1000\n",
      "Loss at iteration 8600: 0.48285127\n",
      "Accuracy in last 100 iterations: 838/1000\n",
      "Loss at iteration 8700: 0.52192438\n",
      "Accuracy in last 100 iterations: 800/1000\n",
      "Loss at iteration 8800: 0.36187053\n",
      "Accuracy in last 100 iterations: 838/1000\n",
      "Loss at iteration 8900: 0.42524451\n",
      "Accuracy in last 100 iterations: 865/1000\n",
      "Loss at iteration 9000: 0.35432309\n",
      "Accuracy in last 100 iterations: 829/1000\n",
      "Loss at iteration 9100: 0.43957520\n",
      "Accuracy in last 100 iterations: 840/1000\n",
      "Loss at iteration 9200: 0.48367023\n",
      "Accuracy in last 100 iterations: 834/1000\n",
      "Loss at iteration 9300: 0.72967684\n",
      "Accuracy in last 100 iterations: 835/1000\n",
      "Loss at iteration 9400: 0.49547821\n",
      "Accuracy in last 100 iterations: 822/1000\n",
      "Loss at iteration 9500: 0.34294206\n",
      "Accuracy in last 100 iterations: 848/1000\n",
      "Loss at iteration 9600: 0.39082223\n",
      "Accuracy in last 100 iterations: 826/1000\n",
      "Loss at iteration 9700: 0.37455577\n",
      "Accuracy in last 100 iterations: 828/1000\n",
      "Loss at iteration 9800: 0.45251036\n",
      "Accuracy in last 100 iterations: 854/1000\n",
      "Loss at iteration 9900: 0.88253403\n",
      "Accuracy in last 100 iterations: 840/1000\n"
     ]
    }
   ],
   "source": [
    "attn_local.train()"
   ]
  },
  {
   "cell_type": "code",
   "execution_count": 16,
   "metadata": {},
   "outputs": [
    {
     "data": {
      "text/plain": [
       "8.37"
      ]
     },
     "execution_count": 16,
     "metadata": {},
     "output_type": "execute_result"
    }
   ],
   "source": [
    "accuracy_after = []\n",
    "for _ in range(100):\n",
    "    accuracy_after.append(attn_local.test()[0].item())\n",
    "    \n",
    "np.mean(accuracy_after)"
   ]
  },
  {
   "cell_type": "code",
   "execution_count": 17,
   "metadata": {},
   "outputs": [],
   "source": [
    "acc, attentions = attn_local.test()"
   ]
  },
  {
   "cell_type": "code",
   "execution_count": 27,
   "metadata": {},
   "outputs": [
    {
     "data": {
      "image/png": "[encoded data removed]",
      "text/plain": [
       "<Figure size 432x288 with 1 Axes>"
      ]
     },
     "metadata": {},
     "output_type": "display_data"
    }
   ],
   "source": [
    "for i in range(10):\n",
    "    plt.plot(attentions[i][0,0].detach().numpy())"
   ]
  },
  {
   "cell_type": "code",
   "execution_count": 28,
   "metadata": {},
   "outputs": [
    {
     "data": {
      "text/plain": [
       "[<matplotlib.lines.Line2D at 0x11b398c50>]"
      ]
     },
     "execution_count": 28,
     "metadata": {},
     "output_type": "execute_result"
    },
    {
     "data": {
      "image/png": "[encoded data removed]",
      "text/plain": [
       "<Figure size 432x288 with 1 Axes>"
      ]
     },
     "metadata": {},
     "output_type": "display_data"
    }
   ],
   "source": [
    "plt.plot(attentions[0][0,0].detach().numpy())"
   ]
  },
  {
   "cell_type": "code",
   "execution_count": null,
   "metadata": {},
   "outputs": [],
   "source": []
  }
 ],
 "metadata": {
  "kernelspec": {
   "display_name": "Python [default]",
   "language": "python",
   "name": "python3"
  },
  "language_info": {
   "codemirror_mode": {
    "name": "ipython",
    "version": 3
   },
   "file_extension": ".py",
   "mimetype": "text/x-python",
   "name": "python",
   "nbconvert_exporter": "python",
   "pygments_lexer": "ipython3",
   "version": "3.6.5"
  }
 },
 "nbformat": 4,
 "nbformat_minor": 2
}
